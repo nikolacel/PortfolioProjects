{
 "cells": [
  {
   "cell_type": "code",
   "execution_count": null,
   "id": "822fa69d",
   "metadata": {},
   "outputs": [],
   "source": [
    "name = input('Please enter your name: ')\n",
    "\n",
    "weight = int(input('Enter your weight in pounds: '))\n",
    "\n",
    "height = int(input('Enter your height in inches: '))\n",
    "\n",
    "BMI = round(weight / (height * height) * 703 , 2)\n",
    "\n",
    "print(BMI)\n",
    "\n",
    "if BMI > 0:\n",
    "    if (BMI < 18.5):\n",
    "        print(f'{name}', ', you are underweight.')\n",
    "    elif (BMI < 24.99):\n",
    "        print(f'{name}', ', you are normal weight.')\n",
    "    elif (BMI < 29.99):\n",
    "        print(f'{name}', ', you are overweight.')\n",
    "    elif (BMI < 34.99):\n",
    "        print(f'{name}', ', you are obese.')\n",
    "    elif (BMI < 39.99):\n",
    "        print(f'{name}', ', you are severely obese.')\n",
    "    else:\n",
    "        print(f'{name}',', you are morbidly obese.')"
   ]
  },
  {
   "cell_type": "code",
   "execution_count": null,
   "id": "65333d9c",
   "metadata": {},
   "outputs": [],
   "source": []
  },
  {
   "cell_type": "code",
   "execution_count": null,
   "id": "0ddab5e8",
   "metadata": {},
   "outputs": [],
   "source": []
  },
  {
   "cell_type": "code",
   "execution_count": null,
   "id": "6d929f56",
   "metadata": {},
   "outputs": [],
   "source": []
  },
  {
   "cell_type": "code",
   "execution_count": null,
   "id": "ac0f26b4",
   "metadata": {},
   "outputs": [],
   "source": []
  },
  {
   "cell_type": "code",
   "execution_count": null,
   "id": "45f1dfd4",
   "metadata": {},
   "outputs": [],
   "source": []
  },
  {
   "cell_type": "code",
   "execution_count": null,
   "id": "afc76ed6",
   "metadata": {},
   "outputs": [],
   "source": []
  },
  {
   "cell_type": "code",
   "execution_count": null,
   "id": "f8bf8653",
   "metadata": {},
   "outputs": [],
   "source": []
  },
  {
   "cell_type": "code",
   "execution_count": null,
   "id": "eace4e75",
   "metadata": {},
   "outputs": [],
   "source": []
  },
  {
   "cell_type": "code",
   "execution_count": null,
   "id": "02ac3ba9",
   "metadata": {},
   "outputs": [],
   "source": []
  },
  {
   "cell_type": "code",
   "execution_count": null,
   "id": "dbbcf2f9",
   "metadata": {},
   "outputs": [],
   "source": []
  }
 ],
 "metadata": {
  "kernelspec": {
   "display_name": "Python 3 (ipykernel)",
   "language": "python",
   "name": "python3"
  },
  "language_info": {
   "codemirror_mode": {
    "name": "ipython",
    "version": 3
   },
   "file_extension": ".py",
   "mimetype": "text/x-python",
   "name": "python",
   "nbconvert_exporter": "python",
   "pygments_lexer": "ipython3",
   "version": "3.11.5"
  }
 },
 "nbformat": 4,
 "nbformat_minor": 5
}
