{
 "cells": [
  {
   "cell_type": "markdown",
   "id": "c5ad13cb",
   "metadata": {},
   "source": [
    "## \"Automatic File Sorter\"\n",
    "\n",
    "Purpose of this File sorter is to move files according to their file types to appropriate folders."
   ]
  },
  {
   "cell_type": "code",
   "execution_count": 83,
   "id": "9abacd44",
   "metadata": {},
   "outputs": [],
   "source": [
    "import os, shutil #shell utilities"
   ]
  },
  {
   "cell_type": "code",
   "execution_count": 84,
   "id": "41e05632",
   "metadata": {},
   "outputs": [],
   "source": [
    "path = r'C:/Users/Nikola/Desktop/Courses/Alex Projects/5. File Sorter/Files/'"
   ]
  },
  {
   "cell_type": "code",
   "execution_count": 85,
   "id": "6a79d7f9",
   "metadata": {},
   "outputs": [
    {
     "data": {
      "text/plain": [
       "['2021 Commercial Income and Cost.csv',\n",
       " 'August 21 to 27 to post.pdf',\n",
       " 'csv_files',\n",
       " 'image_files',\n",
       " 'IMG_4544.JPG',\n",
       " 'pdf_files',\n",
       " 'PolicyNumber-81337008-Renewal.pdf',\n",
       " 'txt_files',\n",
       " 'Veljko resume.txt']"
      ]
     },
     "execution_count": 85,
     "metadata": {},
     "output_type": "execute_result"
    }
   ],
   "source": [
    "file_names = os.listdir(path)\n",
    "file_names"
   ]
  },
  {
   "cell_type": "code",
   "execution_count": 86,
   "id": "55e39e06",
   "metadata": {},
   "outputs": [],
   "source": [
    "folder_names = ['csv_files', 'image_files', 'txt_files', 'pdf_files']"
   ]
  },
  {
   "cell_type": "code",
   "execution_count": 87,
   "id": "ab5f2def",
   "metadata": {},
   "outputs": [],
   "source": [
    "for i in range(0,4):\n",
    "    if not os.path.exists(path  + folder_names[i]):\n",
    "        os.makedirs(path + folder_names[i])  #I could've done '/' in path or '\\\\'"
   ]
  },
  {
   "cell_type": "code",
   "execution_count": 82,
   "id": "be1faf62",
   "metadata": {},
   "outputs": [],
   "source": [
    "for file in file_names:\n",
    "    if '.csv' in file and not os.path.exists(path + \"csv_files/\" + file):\n",
    "        shutil.move(path + file, path + \"csv_files/\" + file)\n",
    "    elif '.JPG' in file and not os.path.exists(path + \"image_files/\" + file):\n",
    "        shutil.move(path + file, path + \"image_files/\" + file)\n",
    "    elif '.txt' in file and not os.path.exists(path + \"txt_files/\" + file):\n",
    "        shutil.move(path + file, path + \"txt_files/\" + file)\n",
    "    elif '.pdf' in file and not os.path.exists(path + \"pdf_files/\" + file):\n",
    "        shutil.move(path + file, path + \"pdf_files/\" + file)"
   ]
  },
  {
   "cell_type": "code",
   "execution_count": null,
   "id": "1f296f4c",
   "metadata": {},
   "outputs": [],
   "source": []
  },
  {
   "cell_type": "code",
   "execution_count": null,
   "id": "784ce06b",
   "metadata": {},
   "outputs": [],
   "source": []
  },
  {
   "cell_type": "code",
   "execution_count": null,
   "id": "02a956a6",
   "metadata": {},
   "outputs": [],
   "source": []
  },
  {
   "cell_type": "code",
   "execution_count": null,
   "id": "46da5779",
   "metadata": {},
   "outputs": [],
   "source": []
  },
  {
   "cell_type": "code",
   "execution_count": null,
   "id": "35272492",
   "metadata": {},
   "outputs": [],
   "source": []
  },
  {
   "cell_type": "code",
   "execution_count": null,
   "id": "a138ec21",
   "metadata": {},
   "outputs": [],
   "source": []
  }
 ],
 "metadata": {
  "kernelspec": {
   "display_name": "Python 3 (ipykernel)",
   "language": "python",
   "name": "python3"
  },
  "language_info": {
   "codemirror_mode": {
    "name": "ipython",
    "version": 3
   },
   "file_extension": ".py",
   "mimetype": "text/x-python",
   "name": "python",
   "nbconvert_exporter": "python",
   "pygments_lexer": "ipython3",
   "version": "3.11.5"
  }
 },
 "nbformat": 4,
 "nbformat_minor": 5
}
